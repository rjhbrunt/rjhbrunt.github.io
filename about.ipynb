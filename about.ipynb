{
 "metadata": {
  "name": "",
  "signature": "sha256:3940865a418862e4e15d2862ce20beb6276786f51d9c5740421e028db0be6f8d"
 },
 "nbformat": 3,
 "nbformat_minor": 0,
 "worksheets": [
  {
   "cells": [
    {
     "cell_type": "heading",
     "level": 1,
     "metadata": {},
     "source": [
      "About"
     ]
    },
    {
     "cell_type": "markdown",
     "metadata": {},
     "source": [
      "<p>This is my about page. I will put a short bio here</p>"
     ]
    }
   ],
   "metadata": {}
  }
 ]
}