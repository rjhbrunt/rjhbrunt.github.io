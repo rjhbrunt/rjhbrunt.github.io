{
 "metadata": {
  "name": "",
  "signature": "sha256:79790a2ea88e385bf1d7a5212a442d2092e08d09e51c435a4adffcc52ffdc079"
 },
 "nbformat": 3,
 "nbformat_minor": 0,
 "worksheets": [
  {
   "cells": [
    {
     "cell_type": "heading",
     "level": 1,
     "metadata": {},
     "source": [
      "About"
     ]
    },
    {
     "cell_type": "markdown",
     "metadata": {},
     "source": [
      "<p>This is my about page. I will put a short bio here</p>"
     ]
    },
    {
     "cell_type": "heading",
     "level": 2,
     "metadata": {},
     "source": [
      "Contact me"
     ]
    },
    {
     "cell_type": "markdown",
     "metadata": {},
     "source": [
      "rjhbrunt [at symbol] gmail dot com"
     ]
    }
   ],
   "metadata": {}
  }
 ]
}