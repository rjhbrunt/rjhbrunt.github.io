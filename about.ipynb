{
 "metadata": {
  "name": "",
  "signature": "sha256:c979cf1aaaef4a2fb5ff31b0fc6d1d11a142c714ffbd26d5c373669aa8e9ccbb"
 },
 "nbformat": 3,
 "nbformat_minor": 0,
 "worksheets": [
  {
   "cells": [
    {
     "cell_type": "heading",
     "level": 1,
     "metadata": {},
     "source": [
      "About"
     ]
    },
    {
     "cell_type": "markdown",
     "metadata": {},
     "source": [
      "<p>This is my about page. I will put a short bio here</p>"
     ]
    },
    {
     "cell_type": "code",
     "collapsed": false,
     "input": [
      "from IPython.html.widgets import interact, interactive\n",
      "from IPython.display import display\n",
      "\n",
      "def foo(TextBox=\"Type Here\"):\n",
      "    print(TextBox)\n",
      "\n",
      "display(interactive(foo, TextBox=''))"
     ],
     "language": "python",
     "metadata": {},
     "outputs": [
      {
       "output_type": "stream",
       "stream": "stdout",
       "text": [
        "\n"
       ]
      }
     ],
     "prompt_number": 6
    },
    {
     "cell_type": "code",
     "collapsed": false,
     "input": [],
     "language": "python",
     "metadata": {},
     "outputs": []
    }
   ],
   "metadata": {}
  }
 ]
}