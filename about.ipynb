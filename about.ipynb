{
 "metadata": {
  "name": "",
  "signature": "sha256:b9b1607cb61b55a70c53e45f6f4a5cc2587266ad0aa6820f7389bc1eca652262"
 },
 "nbformat": 3,
 "nbformat_minor": 0,
 "worksheets": [
  {
   "cells": [
    {
     "cell_type": "code",
     "collapsed": false,
     "input": [
      "from IPython.display import HTML"
     ],
     "language": "python",
     "metadata": {},
     "outputs": [],
     "prompt_number": 1
    },
    {
     "cell_type": "markdown",
     "metadata": {},
     "source": [
      "<p>This is my about page. I will put a short bio here</p>"
     ]
    }
   ],
   "metadata": {}
  }
 ]
}