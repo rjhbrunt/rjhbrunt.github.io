{
 "metadata": {
  "name": "",
  "signature": "sha256:5aa2c51bfcec1fe04ed39e2ec2ecadb60940301ded9fe5be37fd10c3798f4d56"
 },
 "nbformat": 3,
 "nbformat_minor": 0,
 "worksheets": [
  {
   "cells": [
    {
     "cell_type": "heading",
     "level": 1,
     "metadata": {},
     "source": [
      "Research"
     ]
    },
    {
     "cell_type": "markdown",
     "metadata": {},
     "source": [
      "<p>\n",
      "    My interests include (in no particular order):\n",
      "    <ul>\n",
      "        <li>Artificial intelligence</li>\n",
      "        <li>Computer Vision</li>\n",
      "        <li>Accelerometers (researching gait)\n",
      "        <li>Natural language processing</li>\n",
      "        <li>Robotics</li>\n",
      "        <li>ubiquitous computing</li>\n",
      "        <li>Economics</li>\n",
      "        <li>Mathematics</li>\n",
      "    </ul>\n",
      "\n",
      "    I will be putting research projects on this page, eventually. Most of the research I do now is related to human gait and activity\n",
      "    as they relate to health. I work on the firmware for the Trio$^{TM}$ (https://hattrickmotion.com)\n",
      "</p>"
     ]
    },
    {
     "cell_type": "code",
     "collapsed": false,
     "input": [],
     "language": "python",
     "metadata": {},
     "outputs": []
    }
   ],
   "metadata": {}
  }
 ]
}