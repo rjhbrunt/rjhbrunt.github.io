{
 "cells": [
  {
   "cell_type": "markdown",
   "metadata": {},
   "source": [
    "# Research"
   ]
  },
  {
   "cell_type": "markdown",
   "metadata": {},
   "source": [
    "<p>\n",
    "    My interests include:\n",
    "    <ul>\n",
    "        <li>Information Security</li>\n",
    "        <li>Quantifying Risk</li>\n",
    "        <li>Economics</li>\n",
    "        <li>Mathematics</li>\n",
    "    </ul>\n",
    "</p>\n",
    "<p>\n",
    "    I will be putting more research projects on this page, eventually. \n",
    "</p>"
   ]
  },
  {
   "cell_type": "markdown",
   "metadata": {},
   "source": [
    "# SavvySherpa\n",
    "\n",
    "Most of the research I did at Savvysherpa is related to human gait and activity. as they relate to health. I worked on the firmware for the Trio$^{TM}$ (https://hattrickmotion.com) and experiment with how gait is related to neurological disease. Below is an example of some of the work I was doing."
   ]
  },
  {
   "cell_type": "markdown",
   "metadata": {},
   "source": [
    "## Gait Variability"
   ]
  },
  {
   "cell_type": "markdown",
   "metadata": {},
   "source": [
    "One of the intersting projects I am working on right now is using accelerometers to study gait variability. What we would like to accomplish is an early detection system for falls in the elderly. Below are two animations of a person's gait (well, animations of the the acceleration caused by a person's gait). The first is a typical balanced gait, the second is off balance with a near fall. "
   ]
  },
  {
   "cell_type": "markdown",
   "metadata": {},
   "source": [
    "#### <div style=\"width:50%;margin: 0 auto;\">Stable Walk</div>"
   ]
  },
  {
   "cell_type": "code",
   "execution_count": 4,
   "metadata": {
    "collapsed": false
   },
   "outputs": [
    {
     "data": {
      "text/html": [
       "<img src=\"stable.gif\"/>"
      ],
      "text/plain": [
       "<IPython.core.display.Image at 0x431ecd0>"
      ]
     },
     "metadata": {},
     "output_type": "display_data"
    }
   ],
   "source": [
    "from IPython.display import Image, display\n",
    "display(Image(url=\"stable.gif\"))"
   ]
  },
  {
   "cell_type": "markdown",
   "metadata": {},
   "source": [
    "#### <div style=\"width:50%;margin: 0 auto;\">Unstable Walk</div>"
   ]
  },
  {
   "cell_type": "code",
   "execution_count": 5,
   "metadata": {
    "collapsed": false
   },
   "outputs": [
    {
     "data": {
      "text/html": [
       "<img src=\"unstable.gif\"/>"
      ],
      "text/plain": [
       "<IPython.core.display.Image at 0x431ec90>"
      ]
     },
     "metadata": {},
     "output_type": "display_data"
    }
   ],
   "source": [
    "display(Image(url=\"unstable.gif\"))"
   ]
  },
  {
   "cell_type": "code",
   "execution_count": null,
   "metadata": {
    "collapsed": false
   },
   "outputs": [],
   "source": []
  }
 ],
 "metadata": {
  "kernelspec": {
   "display_name": "Python 2",
   "language": "python",
   "name": "python2"
  },
  "language_info": {
   "codemirror_mode": {
    "name": "ipython",
    "version": 2
   },
   "file_extension": ".py",
   "mimetype": "text/x-python",
   "name": "python",
   "nbconvert_exporter": "python",
   "pygments_lexer": "ipython2",
   "version": "2.7.11"
  }
 },
 "nbformat": 4,
 "nbformat_minor": 0
}
