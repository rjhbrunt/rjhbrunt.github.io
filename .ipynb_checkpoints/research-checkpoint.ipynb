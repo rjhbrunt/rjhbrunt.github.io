{
 "metadata": {
  "name": "",
  "signature": "sha256:04cca29513fbc13ff47f5254640578b0e7f0b05bf71297938184940de7c4531f"
 },
 "nbformat": 3,
 "nbformat_minor": 0,
 "worksheets": [
  {
   "cells": [
    {
     "cell_type": "heading",
     "level": 1,
     "metadata": {},
     "source": [
      "Research"
     ]
    },
    {
     "cell_type": "markdown",
     "metadata": {},
     "source": [
      "<p>\n",
      "    My interests include (in no particular order):\n",
      "    <ul>\n",
      "        <li>Artificial intelligence</li>\n",
      "        <li>Computer Vision</li>\n",
      "        <li>Accelerometers (researching gait)\n",
      "        <li>Natural language processing</li>\n",
      "        <li>Robotics</li>\n",
      "        <li>ubiquitous computing</li>\n",
      "        <li>Economics</li>\n",
      "        <li>Mathematics</li>\n",
      "    </ul>\n",
      "\n",
      "    I will be putting research projects on this page, eventually. Most of the research I do now is related to human gait and activity\n",
      "    as they relate to health. I work on the firmware for the Trio$^{TM}$ (https://hattrickmotion.com) and experiment with how gait is related to neurological disease. \n",
      "</p>"
     ]
    },
    {
     "cell_type": "code",
     "collapsed": false,
     "input": [],
     "language": "python",
     "metadata": {},
     "outputs": []
    }
   ],
   "metadata": {}
  }
 ]
}