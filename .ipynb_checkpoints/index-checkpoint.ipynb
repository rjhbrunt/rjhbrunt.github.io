{
 "metadata": {
  "name": "",
  "signature": "sha256:ad7a4583aaae2fa58046b967dc964263fe0c52ac86f9ff5fc6d83b64404e77c8"
 },
 "nbformat": 3,
 "nbformat_minor": 0,
 "worksheets": [
  {
   "cells": [
    {
     "cell_type": "code",
     "collapsed": false,
     "input": [
      "%%html\n",
      "<div>\n",
      "<img class=\"content-photo\" src=\"familypic.jpg\" height=454 width=333 style=\"float:left;margin-right:1.2em\"/>\n",
      "<div>\n",
      "<h2>WELCOME</h2>\n",
      "<p>This site is under construction but feel free to hang around and see what I am up to. \n",
      "I am experimenting with building a website entirely with <a href=\"http://ipython.org/\">IPython</a> notebooks. It is hosted via \n",
      "<a href=\"https://pages.github.com/\">GitHub Pages</a>. If you are curious how I made the site\n",
      "press the \"Toggle Code\" button on the menu bar\n",
      "and you can see the input I wrote to generate the site. Or you can see the full repository by clicking the \"See Source\" button above.\n",
      "</p>\n",
      "</div>\n",
      "</div>"
     ],
     "language": "python",
     "metadata": {},
     "outputs": [
      {
       "html": [
        "<div>\n",
        "<img class=\"content-photo\" src=\"familypic.jpg\" height=454 width=333 style=\"float:left;margin-right:1.2em\"/>\n",
        "<div>\n",
        "<h2>WELCOME</h2>\n",
        "<p>This site is under construction but feel free to hang around and see what I am up to. \n",
        "I am experimenting with building a website entirely with <a href=\"http://ipython.org/\">IPython</a> notebooks. It is hosted via \n",
        "<a href=\"https://pages.github.com/\">GitHub Pages</a>. If you are curious how I made the site\n",
        "press the \"Toggle Code\" button on the menu bar\n",
        "and you can see the input I wrote to generate the site. Or you can see the full repository by clicking the \"See Source\" button above.\n",
        "</p>\n",
        "</div>\n",
        "</div>"
       ],
       "metadata": {},
       "output_type": "display_data",
       "text": [
        "<IPython.core.display.HTML at 0x4ae7dd0>"
       ]
      }
     ],
     "prompt_number": 1
    }
   ],
   "metadata": {}
  }
 ]
}