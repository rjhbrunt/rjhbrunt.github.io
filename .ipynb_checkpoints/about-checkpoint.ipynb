{
 "metadata": {
  "name": "",
  "signature": "sha256:78614ed5f3effd5f7ea832aefff58ec6efb580cbc60d5331d1f2f536edd8759b"
 },
 "nbformat": 3,
 "nbformat_minor": 0,
 "worksheets": [
  {
   "cells": [
    {
     "cell_type": "heading",
     "level": 1,
     "metadata": {},
     "source": [
      "About"
     ]
    },
    {
     "cell_type": "markdown",
     "metadata": {},
     "source": [
      "<p>This is my about page. I will put a short bio here</p>"
     ]
    },
    {
     "cell_type": "heading",
     "level": 2,
     "metadata": {},
     "source": [
      "Contact me"
     ]
    },
    {
     "cell_type": "markdown",
     "metadata": {},
     "source": [
      "rjhbrunt [at symbol] gmail.com"
     ]
    }
   ],
   "metadata": {}
  }
 ]
}