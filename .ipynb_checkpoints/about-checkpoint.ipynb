{
 "metadata": {
  "name": "",
  "signature": "sha256:bc883299d895fe63364ebdf9565e33867c84626d2b6e66691677b3fac84cb8d2"
 },
 "nbformat": 3,
 "nbformat_minor": 0,
 "worksheets": [
  {
   "cells": [
    {
     "cell_type": "heading",
     "level": 1,
     "metadata": {},
     "source": [
      "About"
     ]
    },
    {
     "cell_type": "markdown",
     "metadata": {},
     "source": [
      "<p>This is my about page. I will put a short bio here</p>"
     ]
    },
    {
     "cell_type": "heading",
     "level": 2,
     "metadata": {},
     "source": [
      "Contact me"
     ]
    },
    {
     "cell_type": "markdown",
     "metadata": {},
     "source": [
      "rjhbrunt [at symbol] gmail [dot] com"
     ]
    }
   ],
   "metadata": {}
  }
 ]
}