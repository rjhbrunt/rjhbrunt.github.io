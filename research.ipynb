{
 "metadata": {
  "name": "",
  "signature": "sha256:5b87985813cbaadb0e3d9c76caa4c72110ff80618b750e79ccbaafaa5f8e8ce5"
 },
 "nbformat": 3,
 "nbformat_minor": 0,
 "worksheets": [
  {
   "cells": [
    {
     "cell_type": "heading",
     "level": 1,
     "metadata": {},
     "source": [
      "Research"
     ]
    },
    {
     "cell_type": "markdown",
     "metadata": {},
     "source": [
      "<p>\n",
      "    My interests include (in no particular order):\n",
      "    <ul>\n",
      "        <li>Artificial intelligence</li>\n",
      "        <li>Computer Vision</li>\n",
      "        <li>Accelerometers (researching gait)\n",
      "        <li>Natural language processing</li>\n",
      "        <li>Robotics</li>\n",
      "        <li>ubiquitous computing</li>\n",
      "        <li>Economics</li>\n",
      "        <li>Mathematics</li>\n",
      "    </ul>\n",
      "\n",
      "    I will be putting research projects on this page, eventually. Most of the research I do now is related to human gait and activity\n",
      "    as they relate to health. I work on the firmware for the Trio$^{TM}$ (https://hattrickmotion.com) and experiment with how gait is related to neurological disease. \n",
      "</p>"
     ]
    },
    {
     "cell_type": "heading",
     "level": 2,
     "metadata": {},
     "source": [
      "Gait Variability"
     ]
    },
    {
     "cell_type": "markdown",
     "metadata": {},
     "source": [
      "One of the intersting projects I am working on right now is using accelerometers to study gait variability. What we would like to accomplish is an early detection system for falls in the elderly. Below are two animations of a person's gait (well, animations of the the acceleration caused by a person's gait). The first is a typical balanced gait, the second is off balance with a near fall toward the end. "
     ]
    },
    {
     "cell_type": "heading",
     "level": 4,
     "metadata": {},
     "source": [
      "<div style=\"width:50%;margin: 0 auto;\">Stable Walk</div>"
     ]
    },
    {
     "cell_type": "code",
     "collapsed": false,
     "input": [
      "from IPython.display import Image, display\n",
      "display(Image(url=\"stable.gif\"))"
     ],
     "language": "python",
     "metadata": {},
     "outputs": [
      {
       "html": [
        "<img src=\"stable.gif\"/>"
       ],
       "metadata": {},
       "output_type": "display_data",
       "text": [
        "<IPython.core.display.Image at 0x431ecd0>"
       ]
      }
     ],
     "prompt_number": 4
    },
    {
     "cell_type": "heading",
     "level": 4,
     "metadata": {},
     "source": [
      "<div style=\"width:50%;margin: 0 auto;\">Unstable Walk</div>"
     ]
    },
    {
     "cell_type": "code",
     "collapsed": false,
     "input": [
      "display(Image(url=\"unstable.gif\"))"
     ],
     "language": "python",
     "metadata": {},
     "outputs": [
      {
       "html": [
        "<img src=\"unstable.gif\"/>"
       ],
       "metadata": {},
       "output_type": "display_data",
       "text": [
        "<IPython.core.display.Image at 0x431ec90>"
       ]
      }
     ],
     "prompt_number": 5
    },
    {
     "cell_type": "code",
     "collapsed": false,
     "input": [],
     "language": "python",
     "metadata": {},
     "outputs": []
    }
   ],
   "metadata": {}
  }
 ]
}