{
 "metadata": {
  "name": "",
  "signature": "sha256:b00ab92a8901af0b2f982700d20c68e7d0d1c93fb8814ad1e5ce127618a34cd9"
 },
 "nbformat": 3,
 "nbformat_minor": 0,
 "worksheets": [
  {
   "cells": [
    {
     "cell_type": "code",
     "collapsed": false,
     "input": [
      "from IPython.display import display, HTML\n",
      "# This is included in .main.tpl used with nbconvert so that all pages share the same header\n",
      "\"\"\"\n",
      "<h1 class='main-title'>Ryan Joseph Harman Brunt</h1>\n",
      "<nav>\n",
      "    <div class=\"container\">\n",
      "        <ul>\n",
      "            <li><a href=\"#\">Home</a></li>\n",
      "            <li><a href=\"#\" onclick=\"$('.input').slideToggle();\">Toggle Code</a></li>\n",
      "            <li><a href=\"https://github.com/rjhbrunt/rjhbrunt.github.io\" target=\"_blank\">See Source</a></li>\n",
      "            <li><a href=\"#\">Site Map</a>\n",
      "                <ul>\n",
      "                    <li><a href=\"/about\">About</a></li>\n",
      "                    <li><a href=\"/projects\">Projects</a></li>\n",
      "                </ul>\n",
      "            </li>\n",
      "        </ul>\n",
      "    </div>\n",
      "</nav>\n",
      "\"\"\"\n",
      "display(HTML(\"\"\"\n",
      "<div>\n",
      "<img src=\"familypic.jpg\" height=454 width=333 style=\"float:left;margin-right:1.2em\"/>\n",
      "<div>\n",
      "<h2>WELCOME</h2>\n",
      "<p>This site is under construction but feel free to hang around and see what I am up to. \n",
      "I am experimenting with building a website entirely with <a href=\"http://ipython.org/\">IPython</a> notebooks. It is hosted via \n",
      "<a href=\"https://pages.github.com/\">GitHub Pages</a>. If you are curious how I made the site\n",
      "press the \"Toggle Code\" button on the menu bar\n",
      "and you can see the input I wrote to generate the site. Or you can see the full repository by clicking the \"See Source\" button above.\n",
      "</p>\n",
      "</div>\n",
      "</div>\n",
      "\"\"\"))"
     ],
     "language": "python",
     "metadata": {},
     "outputs": [
      {
       "html": [
        "\n",
        "<div>\n",
        "<img src=\"familypic.jpg\" height=454 width=333 style=\"float:left;margin-right:1.2em\"/>\n",
        "<div>\n",
        "<h2>WELCOME</h2>\n",
        "<p>This site is under construction but feel free to hang around and see what I am up to. \n",
        "I am experimenting with building a website entirely with <a href=\"http://ipython.org/\">IPython</a> notebooks. It is hosted via \n",
        "<a href=\"https://pages.github.com/\">GitHub Pages</a>. If you are curious how I made the site\n",
        "press the \"Toggle Code\" button on the menu bar\n",
        "and you can see the input I wrote to generate the site. Or you can see the full repository by clicking the \"See Source\" button above.\n",
        "</p>\n",
        "</div>\n",
        "</div>\n"
       ],
       "metadata": {},
       "output_type": "display_data",
       "text": [
        "<IPython.core.display.HTML at 0x45ab210>"
       ]
      }
     ],
     "prompt_number": 11
    },
    {
     "cell_type": "code",
     "collapsed": false,
     "input": [],
     "language": "python",
     "metadata": {},
     "outputs": []
    }
   ],
   "metadata": {}
  }
 ]
}