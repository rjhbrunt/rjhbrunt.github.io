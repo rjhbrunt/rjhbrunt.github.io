{
 "metadata": {
  "name": "",
  "signature": "sha256:5ded47f2985af9419f3448055192c8b20b77965cc44d4075be7fb8a01e73f879"
 },
 "nbformat": 3,
 "nbformat_minor": 0,
 "worksheets": [
  {
   "cells": [
    {
     "cell_type": "heading",
     "level": 1,
     "metadata": {},
     "source": [
      "Ryan Joseph Harman Brunt"
     ]
    },
    {
     "cell_type": "code",
     "collapsed": false,
     "input": [
      "from IPython.display import display, HTML\n",
      "\n",
      "display(HTML(\"\"\"\n",
      "<nav>\n",
      "    <div class=\"container\">\n",
      "        <ul>\n",
      "            <li><a href=\"#\">Home</a></li>\n",
      "            <li><a href=\"#\" onclick=\"$('.input').slideToggle();\">Toggle Code</a></li>\n",
      "            <li><a href=\"https://github.com/rjhbrunt/rjhbrunt.github.io\" target=\"_blank\">See Source</a></li>\n",
      "            <li><a href=\"#\">Site Map</a>\n",
      "                <ul>\n",
      "                    <li><a href=\"/about\">About</a></li>\n",
      "                    <li><a href=\"/projects\">Projects</a></li>\n",
      "                </ul>\n",
      "            </li>\n",
      "        </ul>\n",
      "    </div>\n",
      "</nav>\n",
      "\n",
      "<div>\n",
      "<img src=\"familypic.jpg\" height=454 width=333 style=\"float:left;margin-right:1.2em\"/>\n",
      "<div>\n",
      "<h2>WELCOME</h2>\n",
      "<p>This site is under construction but feel free to hang around and see what I am up to. \n",
      "I am experimenting with building a website entirely with <a href=\"http://ipython.org/\">IPython</a> notebooks. It is hosted via \n",
      "<a href=\"https://pages.github.com/\">GitHub Pages</a>. If you are curious how I made the site\n",
      "press the \"Toggle Code\" button on the menu bar\n",
      "and you can see the input I wrote to generate the site. Or you can see the full repository by clicking the \"See Source\" button above.\n",
      "</p>\n",
      "</div>\n",
      "</div>\n",
      "\"\"\"))"
     ],
     "language": "python",
     "metadata": {},
     "outputs": [
      {
       "html": [
        "\n",
        "<nav>\n",
        "    <div class=\"container\">\n",
        "        <ul>\n",
        "            <li><a href=\"#\">Home</a></li>\n",
        "            <li><a href=\"#\" onclick=\"$('.input').slideToggle();\">Toggle Code</a></li>\n",
        "            <li><a href=\"https://github.com/rjhbrunt/rjhbrunt.github.io\" target=\"_blank\">See Source</a></li>\n",
        "            <li><a href=\"#\">Site Map</a>\n",
        "                <ul>\n",
        "                    <li><a href=\"/about\">About</a></li>\n",
        "                    <li><a href=\"/projects\">Projects</a></li>\n",
        "                </ul>\n",
        "            </li>\n",
        "        </ul>\n",
        "    </div>\n",
        "</nav>\n",
        "\n",
        "<div>\n",
        "<img src=\"familypic.jpg\" height=454 width=333 style=\"float:left;margin-right:1.2em\"/>\n",
        "<div>\n",
        "<h2>WELCOME</h2>\n",
        "<p>This site is under construction but feel free to hang around and see what I am up to. \n",
        "I am experimenting with building a website entirely with <a href=\"http://ipython.org/\">IPython</a> notebooks. It is hosted via \n",
        "<a href=\"https://pages.github.com/\">GitHub Pages</a>. If you are curious how I made the site\n",
        "press the \"Toggle Code\" button on the menu bar\n",
        "and you can see the input I wrote to generate the site. Or you can see the full repository by clicking the \"See Source\" button above.\n",
        "</p>\n",
        "</div>\n",
        "</div>\n"
       ],
       "metadata": {},
       "output_type": "display_data",
       "text": [
        "<IPython.core.display.HTML at 0x51cc2d0>"
       ]
      }
     ],
     "prompt_number": 92
    },
    {
     "cell_type": "code",
     "collapsed": false,
     "input": [],
     "language": "python",
     "metadata": {},
     "outputs": []
    }
   ],
   "metadata": {}
  }
 ]
}