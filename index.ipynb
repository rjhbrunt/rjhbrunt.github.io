{
 "metadata": {
  "name": "",
  "signature": "sha256:b2921a0c3731c6b1ca9d10da1ec3025661edab12b040046b6c05981a3295d591"
 },
 "nbformat": 3,
 "nbformat_minor": 0,
 "worksheets": [
  {
   "cells": [
    {
     "cell_type": "heading",
     "level": 1,
     "metadata": {},
     "source": [
      "Ryan Joseph Harman Brunt"
     ]
    },
    {
     "cell_type": "code",
     "collapsed": false,
     "input": [
      "from IPython.display import display, HTML, Javascript, Image, IFrame\n",
      "display(HTML(\"\"\"\n",
      "<div>\n",
      "<button type=\"button\" onclick=\"$('.input').slideToggle();\">Toggle Code</button>\n",
      "<a href=\"https://github.com/rjhbrunt/rjhbrunt.github.io\" target=\"_blank\"><button type=\"button\">See Source</button></a>\n",
      "</div>\n",
      "\"\"\"))"
     ],
     "language": "python",
     "metadata": {},
     "outputs": [
      {
       "html": [
        "\n",
        "<div>\n",
        "<button type=\"button\" onclick=\"$('.input').slideToggle();\">Toggle Code</button>\n",
        "<a href=\"https://github.com/rjhbrunt/rjhbrunt.github.io\" target=\"_blank\"><button type=\"button\">See Source</button></a>\n",
        "</div>\n"
       ],
       "metadata": {},
       "output_type": "display_data",
       "text": [
        "<IPython.core.display.HTML at 0x51c9290>"
       ]
      }
     ],
     "prompt_number": 2
    },
    {
     "cell_type": "code",
     "collapsed": false,
     "input": [
      "display(HTML(\"\"\"\n",
      "<div>\n",
      "<img src=\"familypic.jpg\" height=454 width=333 style=\"float:left;margin-right:1.2em\"/>\n",
      "<div\">\n",
      "<h2>WELCOME</h2>\n",
      "<p>This site is under construction but feel free to hang around and see what I am up to. \n",
      "I am experimenting with building a website entirely with <a href=\"http://ipython.org/\">IPython</a> notebooks. It is hosted via \n",
      "<a href=\"https://pages.github.com/\">GitHub Pages</a>. If you are curious how I made the site\n",
      "press the \"Toggle Code\" button on the menu bar\n",
      "and you can see the input I wrote to generate the site. Or you can see the full repository by clicking the \"See Source\" button above.\n",
      "</p>\n",
      "</div>\n",
      "</div>\n",
      "\"\"\"))"
     ],
     "language": "python",
     "metadata": {},
     "outputs": [
      {
       "html": [
        "\n",
        "<div>\n",
        "<img src=\"familypic.jpg\" height=454 width=333 style=\"float:left;margin-right:1.2em\"/>\n",
        "<div\">\n",
        "<h2>WELCOME</h2>\n",
        "<p>This site is under construction but feel free to hang around and see what I am up to. \n",
        "I am experimenting with building a website entirely with <a href=\"http://ipython.org/\">IPython</a> notebooks. It is hosted via \n",
        "<a href=\"https://pages.github.com/\">GitHub Pages</a>. If you are curious how I made the site\n",
        "press the \"Toggle Code\" button on the menu bar\n",
        "and you can see the input I wrote to generate the site. Or you can see the full repository by clicking the \"See Source\" button above.\n",
        "</p>\n",
        "</div>\n",
        "</div>\n"
       ],
       "metadata": {},
       "output_type": "display_data",
       "text": [
        "<IPython.core.display.HTML at 0x51c96d0>"
       ]
      }
     ],
     "prompt_number": 19
    },
    {
     "cell_type": "code",
     "collapsed": false,
     "input": [],
     "language": "python",
     "metadata": {},
     "outputs": [],
     "prompt_number": 12
    },
    {
     "cell_type": "code",
     "collapsed": false,
     "input": [],
     "language": "python",
     "metadata": {},
     "outputs": []
    }
   ],
   "metadata": {}
  }
 ]
}