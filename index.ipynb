{
 "cells": [
  {
   "cell_type": "code",
   "execution_count": 2,
   "metadata": {
    "collapsed": false
   },
   "outputs": [
    {
     "data": {
      "text/html": [
       "<div>\n",
       "<img class=\"content-photo\" src=\"familypic.jpg\" height=454 width=333 style=\"float:left;margin-right:1.2em\"/>\n",
       "<div>\n",
       "<h2>WELCOME</h2>\n",
       "<p>This is my website!\n",
       "I made this website with <a href=\"http://ipython.org/\">IPython</a> notebooks. It is hosted via \n",
       "<a href=\"https://pages.github.com/\">GitHub Pages</a>.\n",
       "</p>\n",
       "</div>\n",
       "</div>"
      ],
      "text/plain": [
       "<IPython.core.display.HTML object>"
      ]
     },
     "metadata": {},
     "output_type": "display_data"
    }
   ],
   "source": [
    "%%html\n",
    "<div>\n",
    "<img class=\"content-photo\" src=\"familypic.jpg\" height=454 width=333 style=\"float:left;margin-right:1.2em\"/>\n",
    "<div>\n",
    "<h2>WELCOME</h2>\n",
    "<p>This is my website!\n",
    "I made this website with <a href=\"http://ipython.org/\">IPython</a> notebooks. It is hosted via \n",
    "<a href=\"https://pages.github.com/\">GitHub Pages</a>.\n",
    "</p>\n",
    "</div>\n",
    "</div>"
   ]
  },
  {
   "cell_type": "code",
   "execution_count": null,
   "metadata": {
    "collapsed": true
   },
   "outputs": [],
   "source": []
  }
 ],
 "metadata": {
  "kernelspec": {
   "display_name": "Python 2",
   "language": "python",
   "name": "python2"
  },
  "language_info": {
   "codemirror_mode": {
    "name": "ipython",
    "version": 2
   },
   "file_extension": ".py",
   "mimetype": "text/x-python",
   "name": "python",
   "nbconvert_exporter": "python",
   "pygments_lexer": "ipython2",
   "version": "2.7.11"
  }
 },
 "nbformat": 4,
 "nbformat_minor": 0
}
